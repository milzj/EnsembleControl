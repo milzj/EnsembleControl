{
 "cells": [
  {
   "cell_type": "markdown",
   "id": "a3a7dfb5",
   "metadata": {},
   "source": [
    "# Using mypackage"
   ]
  },
  {
   "cell_type": "code",
   "execution_count": 9,
   "id": "f5c6b75b",
   "metadata": {},
   "outputs": [],
   "source": [
    "# Author: Jørgen S. Dokken\n",
    "#\n",
    "# SPDX-License-Identifier:    MIT\n",
    "import mypackage"
   ]
  },
  {
   "cell_type": "markdown",
   "id": "d6c548b2",
   "metadata": {},
   "source": [
    "Next we define two numbers, `a` and `b`"
   ]
  },
  {
   "cell_type": "code",
   "execution_count": 4,
   "id": "aaeac4b2",
   "metadata": {},
   "outputs": [],
   "source": [
    "a = 1\n",
    "b = 3"
   ]
  },
  {
   "cell_type": "markdown",
   "id": "24a3b11c",
   "metadata": {},
   "source": [
    "and add them together"
   ]
  },
  {
   "cell_type": "code",
   "execution_count": 5,
   "id": "1fe49573",
   "metadata": {},
   "outputs": [],
   "source": [
    "c = mypackage.addition(a, b)"
   ]
  },
  {
   "cell_type": "markdown",
   "id": "1a5d3bf4",
   "metadata": {},
   "source": [
    "We check the result"
   ]
  },
  {
   "cell_type": "code",
   "execution_count": 6,
   "id": "d71a27d9",
   "metadata": {},
   "outputs": [],
   "source": [
    "assert c == a + b"
   ]
  },
  {
   "cell_type": "code",
   "execution_count": 7,
   "id": "d26309b9-dbc7-4174-9982-dd512e995848",
   "metadata": {},
   "outputs": [
    {
     "name": "stdout",
     "output_type": "stream",
     "text": [
      "4\n"
     ]
    }
   ],
   "source": [
    "print(c)"
   ]
  }
 ],
 "metadata": {
  "jupytext": {
   "formats": "ipynb,py:light",
   "main_language": "python"
  },
  "kernelspec": {
   "display_name": "Python 3.10.6 64-bit",
   "language": "python",
   "name": "python3"
  },
  "language_info": {
   "codemirror_mode": {
    "name": "ipython",
    "version": 3
   },
   "file_extension": ".py",
   "mimetype": "text/x-python",
   "name": "python",
   "nbconvert_exporter": "python",
   "pygments_lexer": "ipython3",
   "version": "3.10.6"
  },
  "vscode": {
   "interpreter": {
    "hash": "31f2aee4e71d21fbe5cf8b01ff0e069b9275f58929596ceb00d14d90e3e16cd6"
   }
  }
 },
 "nbformat": 4,
 "nbformat_minor": 5
}
